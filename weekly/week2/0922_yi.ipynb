{
  "nbformat": 4,
  "nbformat_minor": 0,
  "metadata": {
    "colab": {
      "provenance": [],
      "gpuType": "T4",
      "collapsed_sections": [
        "vRnxvniLcoJ-",
        "CTKmPUGL89eb",
        "XTOGax4W9koa",
        "I6uq7maZ-Uwl",
        "821_5-SG-2dH"
      ]
    },
    "kernelspec": {
      "name": "python3",
      "display_name": "Python 3"
    },
    "language_info": {
      "name": "python"
    },
    "accelerator": "GPU"
  },
  "cells": [
    {
      "cell_type": "markdown",
      "source": [
        "# file loading"
      ],
      "metadata": {
        "id": "Rfv6tv-krRWC"
      }
    },
    {
      "cell_type": "code",
      "execution_count": 1,
      "metadata": {
        "id": "nxqzNVz_ja8l",
        "colab": {
          "base_uri": "https://localhost:8080/"
        },
        "outputId": "d971206b-94e4-42bb-8e1a-21f8ea065734"
      },
      "outputs": [
        {
          "output_type": "execute_result",
          "data": {
            "text/plain": [
              "['train.csv', 'test.csv', 'sample_submission.csv']"
            ]
          },
          "metadata": {},
          "execution_count": 1
        }
      ],
      "source": [
        "import requests\n",
        "import zipfile\n",
        "import io\n",
        "\n",
        "# 구글 드라이브 공유 링크에서 파일 ID를 가져옵니다.\n",
        "file_id = '1ZUueEhjvhzmo8UpZLwqMgzMKA6FGtLJk'  # 여기에 파일 ID를 입력하세요.\n",
        "download_url = f'https://drive.google.com/uc?export=download&id={file_id}'\n",
        "\n",
        "# 파일 다운로드\n",
        "response = requests.get(download_url)\n",
        "response.raise_for_status()  # 요청이 실패하면 예외를 발생시킵니다.\n",
        "\n",
        "# 다운로드한 ZIP 파일을 메모리에서 직접 압축 해제합니다.\n",
        "with zipfile.ZipFile(io.BytesIO(response.content)) as zip_ref:\n",
        "    zip_ref.extractall('/content/unzipped_folder')\n",
        "\n",
        "# 결과 확인\n",
        "import os\n",
        "os.listdir('/content/unzipped_folder')\n"
      ]
    },
    {
      "cell_type": "markdown",
      "source": [
        "# data loading"
      ],
      "metadata": {
        "id": "LCHTh8C2rYoc"
      }
    },
    {
      "cell_type": "code",
      "source": [
        "import pandas as pd\n",
        "import numpy as np"
      ],
      "metadata": {
        "id": "1E6vCUBalxy6"
      },
      "execution_count": 2,
      "outputs": []
    },
    {
      "cell_type": "code",
      "source": [
        "# 데이터 불러오기\n",
        "df = pd.read_csv(\"/content/unzipped_folder/train.csv\")\n",
        "#train = pd.read_csv(\"/content/unzipped_folder/train.csv\")\n",
        "#test = pd.read_csv(\"/content/unzipped_folder/test.csv\")"
      ],
      "metadata": {
        "id": "U8xMLYANnmQE"
      },
      "execution_count": 16,
      "outputs": []
    },
    {
      "cell_type": "code",
      "source": [
        "print(df.head())"
      ],
      "metadata": {
        "colab": {
          "base_uri": "https://localhost:8080/"
        },
        "id": "sZFuJaNXQwSZ",
        "outputId": "4f3675b0-2b52-49f2-85a7-420249f431c4"
      },
      "execution_count": 17,
      "outputs": [
        {
          "output_type": "stream",
          "name": "stdout",
          "text": [
            "           ID SUBCLASS    A2M AAAS AADAT AARS1 ABAT ABCA1 ABCA2 ABCA3  ...  \\\n",
            "0  TRAIN_0000    KIPAN     WT   WT    WT    WT   WT    WT    WT    WT  ...   \n",
            "1  TRAIN_0001     SARC     WT   WT    WT    WT   WT    WT    WT    WT  ...   \n",
            "2  TRAIN_0002     SKCM  R895R   WT    WT    WT   WT    WT    WT    WT  ...   \n",
            "3  TRAIN_0003     KIRC     WT   WT    WT    WT   WT    WT    WT    WT  ...   \n",
            "4  TRAIN_0004   GBMLGG     WT   WT    WT    WT   WT    WT    WT    WT  ...   \n",
            "\n",
            "  ZNF292 ZNF365 ZNF639 ZNF707 ZNFX1 ZNRF4 ZPBP ZW10 ZWINT ZYX  \n",
            "0     WT     WT     WT     WT    WT    WT   WT   WT    WT  WT  \n",
            "1     WT     WT     WT     WT    WT    WT   WT   WT    WT  WT  \n",
            "2     WT     WT     WT     WT    WT    WT   WT   WT    WT  WT  \n",
            "3     WT     WT     WT     WT    WT    WT   WT   WT    WT  WT  \n",
            "4     WT     WT     WT     WT    WT    WT   WT   WT    WT  WT  \n",
            "\n",
            "[5 rows x 4386 columns]\n"
          ]
        }
      ]
    },
    {
      "cell_type": "markdown",
      "source": [
        "# preprocessing"
      ],
      "metadata": {
        "id": "KUPwCa9qQpyt"
      }
    },
    {
      "cell_type": "code",
      "source": [
        "# 정규 표현식 regular expression 모듈\n",
        "import re\n",
        "\n",
        "# 패턴을 구분하는 함수 정의\n",
        "def process_value(value):\n",
        "    # 1) WT 그대로 유지\n",
        "    if value == 'WT':\n",
        "        return value\n",
        "\n",
        "    # 2) 복합 패턴 처리를 위한 split\n",
        "    parts = value.split()  # 공백 기준\n",
        "    processed_parts = []\n",
        "\n",
        "    for part in parts:\n",
        "        # 숫자 앞뒤로 같은 패턴이 있는지 확인\n",
        "        match = re.match(r'([A-Za-z]+)(\\d+)([A-Za-z]+)', part)\n",
        "        if match:\n",
        "            prefix, number, suffix = match.groups()\n",
        "            # 앞뒤 문자가 같다면 해당 부분 무시\n",
        "            if prefix == suffix:\n",
        "                continue\n",
        "        processed_parts.append(part)\n",
        "\n",
        "    # 처리된 부분이 없으면 WT로 변경\n",
        "    return 'WT' if not processed_parts else ' '.join(processed_parts)\n",
        "\n",
        "# 데이터프레임 전처리\n",
        "for col in df.columns[2:]:  # ID와 SUBCLASS 제외\n",
        "    df[col] = df[col].apply(process_value)\n",
        "\n",
        "# 최종 데이터 확인\n",
        "print(df)\n"
      ],
      "metadata": {
        "colab": {
          "base_uri": "https://localhost:8080/"
        },
        "id": "mdmys_38Sij6",
        "outputId": "49a951f4-3d21-44bb-89a7-b77e094d9fdb"
      },
      "execution_count": 18,
      "outputs": [
        {
          "output_type": "stream",
          "name": "stdout",
          "text": [
            "              ID SUBCLASS A2M AAAS AADAT AARS1 ABAT ABCA1 ABCA2 ABCA3  ...  \\\n",
            "0     TRAIN_0000    KIPAN  WT   WT    WT    WT   WT    WT    WT    WT  ...   \n",
            "1     TRAIN_0001     SARC  WT   WT    WT    WT   WT    WT    WT    WT  ...   \n",
            "2     TRAIN_0002     SKCM  WT   WT    WT    WT   WT    WT    WT    WT  ...   \n",
            "3     TRAIN_0003     KIRC  WT   WT    WT    WT   WT    WT    WT    WT  ...   \n",
            "4     TRAIN_0004   GBMLGG  WT   WT    WT    WT   WT    WT    WT    WT  ...   \n",
            "...          ...      ...  ..  ...   ...   ...  ...   ...   ...   ...  ...   \n",
            "6196  TRAIN_6196     LUAD  WT   WT    WT    WT   WT    WT    WT    WT  ...   \n",
            "6197  TRAIN_6197      LGG  WT   WT    WT    WT   WT    WT    WT    WT  ...   \n",
            "6198  TRAIN_6198     COAD  WT   WT    WT    WT   WT    WT    WT    WT  ...   \n",
            "6199  TRAIN_6199     TGCT  WT   WT    WT    WT   WT    WT    WT    WT  ...   \n",
            "6200  TRAIN_6200     SKCM  WT   WT    WT    WT   WT    WT    WT    WT  ...   \n",
            "\n",
            "     ZNF292 ZNF365 ZNF639 ZNF707 ZNFX1 ZNRF4 ZPBP ZW10  ZWINT ZYX  \n",
            "0        WT     WT     WT     WT    WT    WT   WT   WT     WT  WT  \n",
            "1        WT     WT     WT     WT    WT    WT   WT   WT     WT  WT  \n",
            "2        WT     WT     WT     WT    WT    WT   WT   WT     WT  WT  \n",
            "3        WT     WT     WT     WT    WT    WT   WT   WT     WT  WT  \n",
            "4        WT     WT     WT     WT    WT    WT   WT   WT     WT  WT  \n",
            "...     ...    ...    ...    ...   ...   ...  ...  ...    ...  ..  \n",
            "6196     WT     WT     WT     WT    WT    WT   WT   WT     WT  WT  \n",
            "6197     WT     WT     WT     WT    WT    WT   WT   WT     WT  WT  \n",
            "6198     WT     WT     WT     WT    WT    WT   WT   WT  T181S  WT  \n",
            "6199     WT     WT     WT     WT    WT    WT   WT   WT     WT  WT  \n",
            "6200     WT     WT     WT     WT    WT    WT   WT   WT     WT  WT  \n",
            "\n",
            "[6201 rows x 4386 columns]\n"
          ]
        }
      ]
    },
    {
      "cell_type": "code",
      "source": [
        "# 변이 횟수를 계산하는 함수 정의\n",
        "def count_mutations(row):\n",
        "    mutation_count = 0\n",
        "    for val in row:\n",
        "        if val != 'WT':\n",
        "            # 공백으로 나누어진 패턴 개수를 모두 더하기\n",
        "            mutation_count += len(val.split())\n",
        "    return mutation_count\n",
        "\n",
        "# 각 ID별로 변이 횟수 측정하여 새로운 열 추가\n",
        "df['Mutation_Count'] = df.iloc[:, 2:].apply(count_mutations, axis=1)\n",
        "\n",
        "# 최종 데이터 확인\n",
        "print(df)"
      ],
      "metadata": {
        "colab": {
          "base_uri": "https://localhost:8080/"
        },
        "id": "JKK-53exSimt",
        "outputId": "452c2b9d-b9dc-4e0e-b116-74b8a759651d"
      },
      "execution_count": 19,
      "outputs": [
        {
          "output_type": "stream",
          "name": "stdout",
          "text": [
            "              ID SUBCLASS A2M AAAS AADAT AARS1 ABAT ABCA1 ABCA2 ABCA3  ...  \\\n",
            "0     TRAIN_0000    KIPAN  WT   WT    WT    WT   WT    WT    WT    WT  ...   \n",
            "1     TRAIN_0001     SARC  WT   WT    WT    WT   WT    WT    WT    WT  ...   \n",
            "2     TRAIN_0002     SKCM  WT   WT    WT    WT   WT    WT    WT    WT  ...   \n",
            "3     TRAIN_0003     KIRC  WT   WT    WT    WT   WT    WT    WT    WT  ...   \n",
            "4     TRAIN_0004   GBMLGG  WT   WT    WT    WT   WT    WT    WT    WT  ...   \n",
            "...          ...      ...  ..  ...   ...   ...  ...   ...   ...   ...  ...   \n",
            "6196  TRAIN_6196     LUAD  WT   WT    WT    WT   WT    WT    WT    WT  ...   \n",
            "6197  TRAIN_6197      LGG  WT   WT    WT    WT   WT    WT    WT    WT  ...   \n",
            "6198  TRAIN_6198     COAD  WT   WT    WT    WT   WT    WT    WT    WT  ...   \n",
            "6199  TRAIN_6199     TGCT  WT   WT    WT    WT   WT    WT    WT    WT  ...   \n",
            "6200  TRAIN_6200     SKCM  WT   WT    WT    WT   WT    WT    WT    WT  ...   \n",
            "\n",
            "     ZNF365 ZNF639 ZNF707 ZNFX1 ZNRF4 ZPBP ZW10  ZWINT ZYX Mutation_Count  \n",
            "0        WT     WT     WT    WT    WT   WT   WT     WT  WT             18  \n",
            "1        WT     WT     WT    WT    WT   WT   WT     WT  WT             12  \n",
            "2        WT     WT     WT    WT    WT   WT   WT     WT  WT             85  \n",
            "3        WT     WT     WT    WT    WT   WT   WT     WT  WT              4  \n",
            "4        WT     WT     WT    WT    WT   WT   WT     WT  WT             23  \n",
            "...     ...    ...    ...   ...   ...  ...  ...    ...  ..            ...  \n",
            "6196     WT     WT     WT    WT    WT   WT   WT     WT  WT             33  \n",
            "6197     WT     WT     WT    WT    WT   WT   WT     WT  WT              8  \n",
            "6198     WT     WT     WT    WT    WT   WT   WT  T181S  WT             13  \n",
            "6199     WT     WT     WT    WT    WT   WT   WT     WT  WT              5  \n",
            "6200     WT     WT     WT    WT    WT   WT   WT     WT  WT             37  \n",
            "\n",
            "[6201 rows x 4387 columns]\n"
          ]
        },
        {
          "output_type": "stream",
          "name": "stderr",
          "text": [
            "<ipython-input-19-95f213850116>:11: PerformanceWarning: DataFrame is highly fragmented.  This is usually the result of calling `frame.insert` many times, which has poor performance.  Consider joining all columns at once using pd.concat(axis=1) instead. To get a de-fragmented frame, use `newframe = frame.copy()`\n",
            "  df['Mutation_Count'] = df.iloc[:, 2:].apply(count_mutations, axis=1)\n"
          ]
        }
      ]
    },
    {
      "cell_type": "code",
      "source": [],
      "metadata": {
        "id": "Ln3amk66SirJ"
      },
      "execution_count": null,
      "outputs": []
    },
    {
      "cell_type": "code",
      "source": [],
      "metadata": {
        "id": "p6UmcjR8Sitf"
      },
      "execution_count": null,
      "outputs": []
    },
    {
      "cell_type": "code",
      "source": [],
      "metadata": {
        "id": "GSYyPEtxSixZ"
      },
      "execution_count": null,
      "outputs": []
    },
    {
      "cell_type": "code",
      "source": [],
      "metadata": {
        "id": "3D9YNZagSizu"
      },
      "execution_count": null,
      "outputs": []
    },
    {
      "cell_type": "code",
      "source": [],
      "metadata": {
        "id": "_fsURKS7Si1j"
      },
      "execution_count": null,
      "outputs": []
    },
    {
      "cell_type": "code",
      "source": [],
      "metadata": {
        "id": "d6p1TkbwSi4K"
      },
      "execution_count": null,
      "outputs": []
    },
    {
      "cell_type": "code",
      "source": [],
      "metadata": {
        "id": "6ED0JbdvSi6T"
      },
      "execution_count": null,
      "outputs": []
    },
    {
      "cell_type": "code",
      "source": [],
      "metadata": {
        "id": "-00UYfKqQstb"
      },
      "execution_count": null,
      "outputs": []
    },
    {
      "cell_type": "code",
      "source": [],
      "metadata": {
        "id": "GBIYyRrWQsz7"
      },
      "execution_count": null,
      "outputs": []
    }
  ]
}
